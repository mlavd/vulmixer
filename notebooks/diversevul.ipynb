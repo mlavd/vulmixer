{
 "cells": [
  {
   "cell_type": "code",
   "execution_count": null,
   "id": "55ba1e2d-1b29-4187-9d4d-0902ae870b89",
   "metadata": {},
   "outputs": [],
   "source": [
    "from pathlib import Path\n",
    "from sklearn.metrics import f1_score, precision_score, recall_score\n",
    "import numpy as np\n",
    "import pandas as pd"
   ]
  },
  {
   "cell_type": "code",
   "execution_count": null,
   "id": "199d465b-5509-4277-a403-49f046636b05",
   "metadata": {},
   "outputs": [],
   "source": [
    "dvul = pd.read_json('/data/fire/data/jsonl/diversevul/all.jsonl', lines=True)\n",
    "dvul = dvul.rename(columns={'target': 'y_true'}).drop(columns='func')\n",
    "dvul = dvul.sort_values(by='idx')\n",
    "dvul.columns"
   ]
  },
  {
   "cell_type": "code",
   "execution_count": null,
   "id": "37baebad-a03f-4f3c-b2b1-54b2e544bc5c",
   "metadata": {},
   "outputs": [],
   "source": [
    "dvul.y_true.value_counts()"
   ]
  },
  {
   "cell_type": "code",
   "execution_count": null,
   "id": "f285b42d-0eae-432c-850a-68d6ae36f298",
   "metadata": {},
   "outputs": [],
   "source": [
    "data = []\n",
    "\n",
    "for model in Path('/data/fire/logs/diversevul/').iterdir():\n",
    "    # print(model.stem)\n",
    "    preds = []\n",
    "    truth = []\n",
    "\n",
    "    for dataset in model.glob('*.csv'):\n",
    "        df = pd.read_csv(dataset)\n",
    "        df = df.sort_values(by='idx')\n",
    "        \n",
    "        df = df.merge(dvul, on='idx', how='left')\n",
    "        preds.append(df.y_pred.values)\n",
    "        truth.append(df.y_true.values)\n",
    "\n",
    "    preds = np.concatenate(preds)\n",
    "    truth = np.concatenate(truth)\n",
    "\n",
    "    data.append({\n",
    "        'model': model.stem,\n",
    "        'f1': f1_score(truth, preds > 0.5),\n",
    "        'precision': precision_score(truth, preds > 0.5, zero_division=0),\n",
    "        'recall': recall_score(truth, preds > 0.5),\n",
    "    })\n",
    "\n",
    "preds = np.zeros(preds.shape)\n",
    "data.append({\n",
    "    'model': 'safe baseline',\n",
    "    'f1': f1_score(truth, preds),\n",
    "    'precision': precision_score(truth, preds, zero_division=0),\n",
    "    'recall': recall_score(truth, preds),\n",
    "})\n",
    "\n",
    "preds = np.ones(preds.shape)\n",
    "data.append({\n",
    "    'model': 'vuln baseline',\n",
    "    'f1': f1_score(truth, preds),\n",
    "    'precision': precision_score(truth, preds, zero_division=0),\n",
    "    'recall': recall_score(truth, preds),\n",
    "})\n",
    "        \n",
    "data = pd.DataFrame(data)\n",
    "data = data.sort_values(by='f1', ascending=False)\n",
    "data.shape"
   ]
  },
  {
   "cell_type": "code",
   "execution_count": null,
   "id": "36ef8f3e-2d3f-496a-8e95-817d3165c6cf",
   "metadata": {},
   "outputs": [],
   "source": [
    "data\\\n",
    "    .style.format({\n",
    "        'f1': '{:.4f}',\n",
    "        'precision': '{:.4f}',\n",
    "        'recall': '{:.4f}',\n",
    "    }).background_gradient()"
   ]
  }
 ],
 "metadata": {
  "kernelspec": {
   "display_name": "analysis",
   "language": "python",
   "name": "analysis"
  },
  "language_info": {
   "codemirror_mode": {
    "name": "ipython",
    "version": 3
   },
   "file_extension": ".py",
   "mimetype": "text/x-python",
   "name": "python",
   "nbconvert_exporter": "python",
   "pygments_lexer": "ipython3",
   "version": "3.12.0"
  }
 },
 "nbformat": 4,
 "nbformat_minor": 5
}
